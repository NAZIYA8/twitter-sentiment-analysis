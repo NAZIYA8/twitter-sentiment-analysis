{
 "cells": [
  {
   "cell_type": "markdown",
   "source": [
    "'''\n",
    "@Author: Naziya\n",
    "\n",
    "@Date: 2021-09-07\n",
    "\n",
    "@Last Modified by: Naziya\n",
    "\n",
    "@Last Modified : 2021-09-07\n",
    "\n",
    "@Title : Program Aim is to perform live twitter sentimental analysis and visualize it.\n",
    "'''"
   ],
   "metadata": {}
  },
  {
   "cell_type": "code",
   "execution_count": 1,
   "source": [
    "import pandas as pd\n",
    "import matplotlib.pyplot as plt\n",
    "from matplotlib.animation import FuncAnimation\n",
    "from matplotlib import style\n",
    "from LoggerFormat import logger\n",
    "%matplotlib \n",
    "style.use(\"seaborn\")\n",
    "\n",
    "def animate(i):\n",
    "    try:\n",
    "        data = pd.read_csv('data.csv')\n",
    "        x1 = data['pos']\n",
    "        x2 = data['neg']\n",
    "        y1 = data['p_count']\n",
    "        y2 = data['n_count']\n",
    "        plt.cla()\n",
    "        plt.bar(x1,y1,label=\"positive\",width=0.2)\n",
    "        plt.bar(x2,y2,label='negative',width=0.2)\n",
    "        plt.xlabel(\"sentiments\")\n",
    "        plt.ylabel(\"count\")\n",
    "        plt.legend(loc='center')\n",
    "        plt.tight_layout()\n",
    "\n",
    "    except Exception as e:\n",
    "        logger.info(e)\n",
    "\n",
    "\n",
    "ani = FuncAnimation(plt.gcf(),animate,interval=500)\n",
    "\n",
    "plt.tight_layout()\n",
    "plt.show()"
   ],
   "outputs": [
    {
     "output_type": "stream",
     "name": "stdout",
     "text": [
      "Using matplotlib backend: GTK3Agg\n"
     ]
    },
    {
     "output_type": "stream",
     "name": "stderr",
     "text": [
      "/home/naziya/.local/lib/python3.8/site-packages/ipykernel/gui/gtk3embed.py:59: RuntimeWarning: coroutine 'Kernel.do_one_iteration' was never awaited\n",
      "  self.kernel.do_one_iteration()\n",
      "RuntimeWarning: Enable tracemalloc to get the object allocation traceback\n"
     ]
    }
   ],
   "metadata": {}
  }
 ],
 "metadata": {
  "orig_nbformat": 4,
  "language_info": {
   "name": "python",
   "version": "3.8.10"
  },
  "kernelspec": {
   "name": "python3",
   "display_name": "Python 3.8.10 64-bit"
  },
  "interpreter": {
   "hash": "31f2aee4e71d21fbe5cf8b01ff0e069b9275f58929596ceb00d14d90e3e16cd6"
  }
 },
 "nbformat": 4,
 "nbformat_minor": 2
}